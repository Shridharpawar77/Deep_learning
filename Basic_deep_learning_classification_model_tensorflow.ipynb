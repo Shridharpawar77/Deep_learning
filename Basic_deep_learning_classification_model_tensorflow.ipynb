{
 "cells": [
  {
   "cell_type": "code",
   "execution_count": 1,
   "metadata": {},
   "outputs": [
    {
     "name": "stderr",
     "output_type": "stream",
     "text": [
      "/usr/local/anaconda3/lib/python3.6/importlib/_bootstrap.py:219: RuntimeWarning: numpy.dtype size changed, may indicate binary incompatibility. Expected 96, got 88\n",
      "  return f(*args, **kwds)\n",
      "/usr/local/anaconda3/lib/python3.6/importlib/_bootstrap.py:219: RuntimeWarning: numpy.dtype size changed, may indicate binary incompatibility. Expected 96, got 88\n",
      "  return f(*args, **kwds)\n"
     ]
    }
   ],
   "source": [
    "import pandas as pd"
   ]
  },
  {
   "cell_type": "code",
   "execution_count": 2,
   "metadata": {},
   "outputs": [],
   "source": [
    "data=pd.read_csv('/home/shridhar/Documents/Tensorflow learning/Tensorflow-Bootcamp-master/02-TensorFlow-Basics/pima-indians-diabetes.csv')"
   ]
  },
  {
   "cell_type": "code",
   "execution_count": 3,
   "metadata": {},
   "outputs": [
    {
     "data": {
      "text/plain": [
       "Index(['Number_pregnant', 'Glucose_concentration', 'Blood_pressure', 'Triceps',\n",
       "       'Insulin', 'BMI', 'Pedigree', 'Age', 'Class', 'Group'],\n",
       "      dtype='object')"
      ]
     },
     "execution_count": 3,
     "metadata": {},
     "output_type": "execute_result"
    }
   ],
   "source": [
    "data.columns"
   ]
  },
  {
   "cell_type": "code",
   "execution_count": 4,
   "metadata": {},
   "outputs": [
    {
     "data": {
      "text/html": [
       "<div>\n",
       "<style scoped>\n",
       "    .dataframe tbody tr th:only-of-type {\n",
       "        vertical-align: middle;\n",
       "    }\n",
       "\n",
       "    .dataframe tbody tr th {\n",
       "        vertical-align: top;\n",
       "    }\n",
       "\n",
       "    .dataframe thead th {\n",
       "        text-align: right;\n",
       "    }\n",
       "</style>\n",
       "<table border=\"1\" class=\"dataframe\">\n",
       "  <thead>\n",
       "    <tr style=\"text-align: right;\">\n",
       "      <th></th>\n",
       "      <th>Number_pregnant</th>\n",
       "      <th>Glucose_concentration</th>\n",
       "      <th>Blood_pressure</th>\n",
       "      <th>Triceps</th>\n",
       "      <th>Insulin</th>\n",
       "      <th>BMI</th>\n",
       "      <th>Pedigree</th>\n",
       "      <th>Age</th>\n",
       "      <th>Class</th>\n",
       "      <th>Group</th>\n",
       "    </tr>\n",
       "  </thead>\n",
       "  <tbody>\n",
       "    <tr>\n",
       "      <th>0</th>\n",
       "      <td>6</td>\n",
       "      <td>0.743719</td>\n",
       "      <td>0.590164</td>\n",
       "      <td>0.353535</td>\n",
       "      <td>0.000000</td>\n",
       "      <td>0.500745</td>\n",
       "      <td>0.234415</td>\n",
       "      <td>50</td>\n",
       "      <td>1</td>\n",
       "      <td>B</td>\n",
       "    </tr>\n",
       "    <tr>\n",
       "      <th>1</th>\n",
       "      <td>1</td>\n",
       "      <td>0.427136</td>\n",
       "      <td>0.540984</td>\n",
       "      <td>0.292929</td>\n",
       "      <td>0.000000</td>\n",
       "      <td>0.396423</td>\n",
       "      <td>0.116567</td>\n",
       "      <td>31</td>\n",
       "      <td>0</td>\n",
       "      <td>C</td>\n",
       "    </tr>\n",
       "    <tr>\n",
       "      <th>2</th>\n",
       "      <td>8</td>\n",
       "      <td>0.919598</td>\n",
       "      <td>0.524590</td>\n",
       "      <td>0.000000</td>\n",
       "      <td>0.000000</td>\n",
       "      <td>0.347243</td>\n",
       "      <td>0.253629</td>\n",
       "      <td>32</td>\n",
       "      <td>1</td>\n",
       "      <td>B</td>\n",
       "    </tr>\n",
       "    <tr>\n",
       "      <th>3</th>\n",
       "      <td>1</td>\n",
       "      <td>0.447236</td>\n",
       "      <td>0.540984</td>\n",
       "      <td>0.232323</td>\n",
       "      <td>0.111111</td>\n",
       "      <td>0.418778</td>\n",
       "      <td>0.038002</td>\n",
       "      <td>21</td>\n",
       "      <td>0</td>\n",
       "      <td>B</td>\n",
       "    </tr>\n",
       "    <tr>\n",
       "      <th>4</th>\n",
       "      <td>0</td>\n",
       "      <td>0.688442</td>\n",
       "      <td>0.327869</td>\n",
       "      <td>0.353535</td>\n",
       "      <td>0.198582</td>\n",
       "      <td>0.642325</td>\n",
       "      <td>0.943638</td>\n",
       "      <td>33</td>\n",
       "      <td>1</td>\n",
       "      <td>C</td>\n",
       "    </tr>\n",
       "  </tbody>\n",
       "</table>\n",
       "</div>"
      ],
      "text/plain": [
       "   Number_pregnant  Glucose_concentration  Blood_pressure   Triceps   Insulin  \\\n",
       "0                6               0.743719        0.590164  0.353535  0.000000   \n",
       "1                1               0.427136        0.540984  0.292929  0.000000   \n",
       "2                8               0.919598        0.524590  0.000000  0.000000   \n",
       "3                1               0.447236        0.540984  0.232323  0.111111   \n",
       "4                0               0.688442        0.327869  0.353535  0.198582   \n",
       "\n",
       "        BMI  Pedigree  Age  Class Group  \n",
       "0  0.500745  0.234415   50      1     B  \n",
       "1  0.396423  0.116567   31      0     C  \n",
       "2  0.347243  0.253629   32      1     B  \n",
       "3  0.418778  0.038002   21      0     B  \n",
       "4  0.642325  0.943638   33      1     C  "
      ]
     },
     "execution_count": 4,
     "metadata": {},
     "output_type": "execute_result"
    }
   ],
   "source": [
    "data.head()"
   ]
  },
  {
   "cell_type": "code",
   "execution_count": 5,
   "metadata": {},
   "outputs": [
    {
     "name": "stderr",
     "output_type": "stream",
     "text": [
      "/usr/local/anaconda3/lib/python3.6/importlib/_bootstrap.py:219: RuntimeWarning: numpy.dtype size changed, may indicate binary incompatibility. Expected 96, got 88\n",
      "  return f(*args, **kwds)\n",
      "/usr/local/anaconda3/lib/python3.6/importlib/_bootstrap.py:219: RuntimeWarning: numpy.dtype size changed, may indicate binary incompatibility. Expected 96, got 88\n",
      "  return f(*args, **kwds)\n",
      "/usr/local/anaconda3/lib/python3.6/importlib/_bootstrap.py:219: RuntimeWarning: numpy.dtype size changed, may indicate binary incompatibility. Expected 96, got 88\n",
      "  return f(*args, **kwds)\n",
      "/usr/local/anaconda3/lib/python3.6/importlib/_bootstrap.py:219: RuntimeWarning: numpy.dtype size changed, may indicate binary incompatibility. Expected 96, got 88\n",
      "  return f(*args, **kwds)\n"
     ]
    }
   ],
   "source": [
    "from sklearn.model_selection import train_test_split"
   ]
  },
  {
   "cell_type": "code",
   "execution_count": 6,
   "metadata": {},
   "outputs": [],
   "source": [
    "x_data=data.drop('Class',axis=1)\n",
    "y_labels=data['Class']\n",
    "x_train,x_test, y_train, y_test=train_test_split(x_data,y_labels,test_size=0.3,random_state=101)"
   ]
  },
  {
   "cell_type": "markdown",
   "metadata": {},
   "source": [
    "Import Tensorflow"
   ]
  },
  {
   "cell_type": "code",
   "execution_count": 7,
   "metadata": {},
   "outputs": [
    {
     "name": "stderr",
     "output_type": "stream",
     "text": [
      "/usr/local/anaconda3/lib/python3.6/importlib/_bootstrap.py:219: RuntimeWarning: numpy.dtype size changed, may indicate binary incompatibility. Expected 96, got 88\n",
      "  return f(*args, **kwds)\n"
     ]
    }
   ],
   "source": [
    "import tensorflow as tf"
   ]
  },
  {
   "cell_type": "code",
   "execution_count": 8,
   "metadata": {},
   "outputs": [
    {
     "data": {
      "text/plain": [
       "Number_pregnant            int64\n",
       "Glucose_concentration    float64\n",
       "Blood_pressure           float64\n",
       "Triceps                  float64\n",
       "Insulin                  float64\n",
       "BMI                      float64\n",
       "Pedigree                 float64\n",
       "Age                        int64\n",
       "Class                      int64\n",
       "Group                     object\n",
       "dtype: object"
      ]
     },
     "execution_count": 8,
     "metadata": {},
     "output_type": "execute_result"
    }
   ],
   "source": [
    "data.dtypes"
   ]
  },
  {
   "cell_type": "code",
   "execution_count": 9,
   "metadata": {},
   "outputs": [],
   "source": [
    "Number_pregnant = tf.feature_column.numeric_column('Number_pregnant')\n",
    "Glucose_concentration = tf.feature_column.numeric_column('Glucose_concentration')\n",
    "Blood_pressure = tf.feature_column.numeric_column('Blood_pressure')\n",
    "Triceps = tf.feature_column.numeric_column('Triceps')\n",
    "Insulin = tf.feature_column.numeric_column('Insulin')\n",
    "BMI = tf.feature_column.numeric_column('BMI')\n",
    "Pedigree = tf.feature_column.numeric_column('Pedigree')\n",
    "Age = tf.feature_column.numeric_column('Age')\n",
    "#Class = tf.feature_column.numeric_column('Class')\n",
    "Group = tf.feature_column.categorical_column_with_vocabulary_list('Group',['A', 'B','C','D'])"
   ]
  },
  {
   "cell_type": "code",
   "execution_count": 10,
   "metadata": {},
   "outputs": [
    {
     "data": {
      "text/plain": [
       "Index(['Number_pregnant', 'Glucose_concentration', 'Blood_pressure', 'Triceps',\n",
       "       'Insulin', 'BMI', 'Pedigree', 'Age', 'Class', 'Group'],\n",
       "      dtype='object')"
      ]
     },
     "execution_count": 10,
     "metadata": {},
     "output_type": "execute_result"
    }
   ],
   "source": [
    "data.columns"
   ]
  },
  {
   "cell_type": "markdown",
   "metadata": {},
   "source": [
    "create feature columns"
   ]
  },
  {
   "cell_type": "code",
   "execution_count": 11,
   "metadata": {},
   "outputs": [],
   "source": [
    "feat_cols=[Number_pregnant, Glucose_concentration, Blood_pressure,Triceps,\n",
    "       Insulin, BMI, Pedigree, Age,Group]"
   ]
  },
  {
   "cell_type": "markdown",
   "metadata": {},
   "source": [
    "create the input function  "
   ]
  },
  {
   "cell_type": "code",
   "execution_count": 12,
   "metadata": {},
   "outputs": [],
   "source": [
    "input_func=tf.estimator.inputs.pandas_input_fn(x=x_train, y=y_train, batch_size=100, num_epochs=None, shuffle=True)"
   ]
  },
  {
   "cell_type": "code",
   "execution_count": 13,
   "metadata": {},
   "outputs": [
    {
     "name": "stdout",
     "output_type": "stream",
     "text": [
      "INFO:tensorflow:Using default config.\n",
      "WARNING:tensorflow:Using temporary folder as model directory: /tmp/tmpeh7elmhe\n",
      "INFO:tensorflow:Using config: {'_model_dir': '/tmp/tmpeh7elmhe', '_tf_random_seed': None, '_save_summary_steps': 100, '_save_checkpoints_steps': None, '_save_checkpoints_secs': 600, '_session_config': None, '_keep_checkpoint_max': 5, '_keep_checkpoint_every_n_hours': 10000, '_log_step_count_steps': 100, '_service': None, '_cluster_spec': <tensorflow.python.training.server_lib.ClusterSpec object at 0x7f8cc31e6710>, '_task_type': 'worker', '_task_id': 0, '_global_id_in_cluster': 0, '_master': '', '_evaluation_master': '', '_is_chief': True, '_num_ps_replicas': 0, '_num_worker_replicas': 1}\n"
     ]
    }
   ],
   "source": [
    "model=tf.estimator.LinearClassifier(feature_columns=feat_cols)"
   ]
  },
  {
   "cell_type": "markdown",
   "metadata": {},
   "source": [
    "train model on data"
   ]
  },
  {
   "cell_type": "code",
   "execution_count": 14,
   "metadata": {},
   "outputs": [
    {
     "name": "stdout",
     "output_type": "stream",
     "text": [
      "INFO:tensorflow:Calling model_fn.\n",
      "INFO:tensorflow:Done calling model_fn.\n",
      "INFO:tensorflow:Create CheckpointSaverHook.\n",
      "INFO:tensorflow:Graph was finalized.\n",
      "INFO:tensorflow:Running local_init_op.\n",
      "INFO:tensorflow:Done running local_init_op.\n",
      "INFO:tensorflow:Saving checkpoints for 1 into /tmp/tmpeh7elmhe/model.ckpt.\n",
      "INFO:tensorflow:loss = 69.31472, step = 1\n",
      "INFO:tensorflow:global_step/sec: 353.631\n",
      "INFO:tensorflow:loss = 65.192856, step = 101 (0.285 sec)\n",
      "INFO:tensorflow:global_step/sec: 504.783\n",
      "INFO:tensorflow:loss = 61.394794, step = 201 (0.198 sec)\n",
      "INFO:tensorflow:global_step/sec: 513.662\n",
      "INFO:tensorflow:loss = 58.655746, step = 301 (0.196 sec)\n",
      "INFO:tensorflow:global_step/sec: 506.864\n",
      "INFO:tensorflow:loss = 52.70561, step = 401 (0.197 sec)\n",
      "INFO:tensorflow:global_step/sec: 501.006\n",
      "INFO:tensorflow:loss = 55.740837, step = 501 (0.199 sec)\n",
      "INFO:tensorflow:global_step/sec: 514.309\n",
      "INFO:tensorflow:loss = 52.136032, step = 601 (0.195 sec)\n",
      "INFO:tensorflow:global_step/sec: 499.743\n",
      "INFO:tensorflow:loss = 49.34568, step = 701 (0.200 sec)\n",
      "INFO:tensorflow:global_step/sec: 500.387\n",
      "INFO:tensorflow:loss = 59.86546, step = 801 (0.199 sec)\n",
      "INFO:tensorflow:global_step/sec: 486.437\n",
      "INFO:tensorflow:loss = 56.509804, step = 901 (0.210 sec)\n",
      "INFO:tensorflow:global_step/sec: 448.78\n",
      "INFO:tensorflow:loss = 50.91032, step = 1001 (0.218 sec)\n",
      "INFO:tensorflow:global_step/sec: 495.098\n",
      "INFO:tensorflow:loss = 52.729, step = 1101 (0.202 sec)\n",
      "INFO:tensorflow:global_step/sec: 528.237\n",
      "INFO:tensorflow:loss = 46.878967, step = 1201 (0.190 sec)\n",
      "INFO:tensorflow:global_step/sec: 439.38\n",
      "INFO:tensorflow:loss = 53.593597, step = 1301 (0.227 sec)\n",
      "INFO:tensorflow:global_step/sec: 465.414\n",
      "INFO:tensorflow:loss = 49.21355, step = 1401 (0.215 sec)\n",
      "INFO:tensorflow:global_step/sec: 496.797\n",
      "INFO:tensorflow:loss = 50.76696, step = 1501 (0.201 sec)\n",
      "INFO:tensorflow:global_step/sec: 488.025\n",
      "INFO:tensorflow:loss = 50.39519, step = 1601 (0.205 sec)\n",
      "INFO:tensorflow:global_step/sec: 508.566\n",
      "INFO:tensorflow:loss = 52.00843, step = 1701 (0.197 sec)\n",
      "INFO:tensorflow:global_step/sec: 486.283\n",
      "INFO:tensorflow:loss = 51.48426, step = 1801 (0.206 sec)\n",
      "INFO:tensorflow:global_step/sec: 479.961\n",
      "INFO:tensorflow:loss = 53.874794, step = 1901 (0.210 sec)\n",
      "INFO:tensorflow:global_step/sec: 480.487\n",
      "INFO:tensorflow:loss = 56.20021, step = 2001 (0.207 sec)\n",
      "INFO:tensorflow:global_step/sec: 499.385\n",
      "INFO:tensorflow:loss = 53.71156, step = 2101 (0.200 sec)\n",
      "INFO:tensorflow:global_step/sec: 490.851\n",
      "INFO:tensorflow:loss = 45.767822, step = 2201 (0.203 sec)\n",
      "INFO:tensorflow:global_step/sec: 504.451\n",
      "INFO:tensorflow:loss = 55.00617, step = 2301 (0.199 sec)\n",
      "INFO:tensorflow:global_step/sec: 490.608\n",
      "INFO:tensorflow:loss = 54.29595, step = 2401 (0.204 sec)\n",
      "INFO:tensorflow:global_step/sec: 522.127\n",
      "INFO:tensorflow:loss = 51.40941, step = 2501 (0.193 sec)\n",
      "INFO:tensorflow:global_step/sec: 494.027\n",
      "INFO:tensorflow:loss = 57.289078, step = 2601 (0.201 sec)\n",
      "INFO:tensorflow:global_step/sec: 523.205\n",
      "INFO:tensorflow:loss = 49.024467, step = 2701 (0.191 sec)\n",
      "INFO:tensorflow:global_step/sec: 508.429\n",
      "INFO:tensorflow:loss = 52.374996, step = 2801 (0.197 sec)\n",
      "INFO:tensorflow:global_step/sec: 483.771\n",
      "INFO:tensorflow:loss = 47.829086, step = 2901 (0.212 sec)\n",
      "INFO:tensorflow:global_step/sec: 496.249\n",
      "INFO:tensorflow:loss = 43.603695, step = 3001 (0.195 sec)\n",
      "INFO:tensorflow:global_step/sec: 531.523\n",
      "INFO:tensorflow:loss = 44.50922, step = 3101 (0.188 sec)\n",
      "INFO:tensorflow:global_step/sec: 508.479\n",
      "INFO:tensorflow:loss = 44.298138, step = 3201 (0.199 sec)\n",
      "INFO:tensorflow:global_step/sec: 488.405\n",
      "INFO:tensorflow:loss = 44.907555, step = 3301 (0.203 sec)\n",
      "INFO:tensorflow:global_step/sec: 508.881\n",
      "INFO:tensorflow:loss = 49.669857, step = 3401 (0.197 sec)\n",
      "INFO:tensorflow:global_step/sec: 455.912\n",
      "INFO:tensorflow:loss = 56.039726, step = 3501 (0.220 sec)\n",
      "INFO:tensorflow:global_step/sec: 507.61\n",
      "INFO:tensorflow:loss = 55.20476, step = 3601 (0.197 sec)\n",
      "INFO:tensorflow:global_step/sec: 485.927\n",
      "INFO:tensorflow:loss = 47.24644, step = 3701 (0.205 sec)\n",
      "INFO:tensorflow:global_step/sec: 457.095\n",
      "INFO:tensorflow:loss = 45.666237, step = 3801 (0.220 sec)\n",
      "INFO:tensorflow:global_step/sec: 421.344\n",
      "INFO:tensorflow:loss = 53.943398, step = 3901 (0.237 sec)\n",
      "INFO:tensorflow:global_step/sec: 513.287\n",
      "INFO:tensorflow:loss = 47.687653, step = 4001 (0.195 sec)\n",
      "INFO:tensorflow:global_step/sec: 523.139\n",
      "INFO:tensorflow:loss = 49.81598, step = 4101 (0.191 sec)\n",
      "INFO:tensorflow:global_step/sec: 508.726\n",
      "INFO:tensorflow:loss = 51.138714, step = 4201 (0.197 sec)\n",
      "INFO:tensorflow:global_step/sec: 483.092\n",
      "INFO:tensorflow:loss = 44.872704, step = 4301 (0.207 sec)\n",
      "INFO:tensorflow:global_step/sec: 510.429\n",
      "INFO:tensorflow:loss = 52.12183, step = 4401 (0.196 sec)\n",
      "INFO:tensorflow:global_step/sec: 521.298\n",
      "INFO:tensorflow:loss = 56.036003, step = 4501 (0.193 sec)\n",
      "INFO:tensorflow:global_step/sec: 506.744\n",
      "INFO:tensorflow:loss = 42.81928, step = 4601 (0.196 sec)\n",
      "INFO:tensorflow:global_step/sec: 487.852\n",
      "INFO:tensorflow:loss = 46.245705, step = 4701 (0.205 sec)\n",
      "INFO:tensorflow:global_step/sec: 501.396\n",
      "INFO:tensorflow:loss = 50.963795, step = 4801 (0.199 sec)\n",
      "INFO:tensorflow:global_step/sec: 497.706\n",
      "INFO:tensorflow:loss = 51.19597, step = 4901 (0.201 sec)\n",
      "INFO:tensorflow:Saving checkpoints for 5000 into /tmp/tmpeh7elmhe/model.ckpt.\n",
      "INFO:tensorflow:Loss for final step: 46.431522.\n"
     ]
    },
    {
     "data": {
      "text/plain": [
       "<tensorflow.python.estimator.canned.linear.LinearClassifier at 0x7f8c7deca710>"
      ]
     },
     "execution_count": 14,
     "metadata": {},
     "output_type": "execute_result"
    }
   ],
   "source": [
    "model.train(input_fn=input_func,steps=5000)"
   ]
  },
  {
   "cell_type": "markdown",
   "metadata": {},
   "source": [
    "Evaluation"
   ]
  },
  {
   "cell_type": "code",
   "execution_count": 15,
   "metadata": {},
   "outputs": [],
   "source": [
    "pred_fn=tf.estimator.inputs.pandas_input_fn(x=x_test,batch_size=len(x_test),shuffle=False)"
   ]
  },
  {
   "cell_type": "code",
   "execution_count": 16,
   "metadata": {},
   "outputs": [
    {
     "name": "stdout",
     "output_type": "stream",
     "text": [
      "INFO:tensorflow:Calling model_fn.\n",
      "INFO:tensorflow:Done calling model_fn.\n",
      "INFO:tensorflow:Graph was finalized.\n",
      "INFO:tensorflow:Restoring parameters from /tmp/tmpeh7elmhe/model.ckpt-5000\n",
      "INFO:tensorflow:Running local_init_op.\n",
      "INFO:tensorflow:Done running local_init_op.\n"
     ]
    }
   ],
   "source": [
    "prediction=list(model.predict(input_fn=pred_fn))"
   ]
  },
  {
   "cell_type": "code",
   "execution_count": 17,
   "metadata": {},
   "outputs": [
    {
     "data": {
      "text/plain": [
       "{'class_ids': array([0]),\n",
       " 'classes': array([b'0'], dtype=object),\n",
       " 'logistic': array([0.32550102], dtype=float32),\n",
       " 'logits': array([-0.72860456], dtype=float32),\n",
       " 'probabilities': array([0.674499  , 0.32550102], dtype=float32)}"
      ]
     },
     "execution_count": 17,
     "metadata": {},
     "output_type": "execute_result"
    }
   ],
   "source": [
    "prediction[0]"
   ]
  },
  {
   "cell_type": "code",
   "execution_count": 18,
   "metadata": {},
   "outputs": [
    {
     "name": "stdout",
     "output_type": "stream",
     "text": [
      "231\n"
     ]
    }
   ],
   "source": [
    "final_pred=[]\n",
    "for pred in prediction:\n",
    "    final_pred.append(pred['class_ids'][0])\n",
    "print(len(final_pred))"
   ]
  },
  {
   "cell_type": "markdown",
   "metadata": {},
   "source": [
    "import classification report functionality"
   ]
  },
  {
   "cell_type": "code",
   "execution_count": 19,
   "metadata": {},
   "outputs": [],
   "source": [
    "from sklearn.metrics import classification_report"
   ]
  },
  {
   "cell_type": "code",
   "execution_count": 20,
   "metadata": {},
   "outputs": [
    {
     "name": "stdout",
     "output_type": "stream",
     "text": [
      "             precision    recall  f1-score   support\n",
      "\n",
      "          0       0.80      0.87      0.84       150\n",
      "          1       0.72      0.60      0.66        81\n",
      "\n",
      "avg / total       0.77      0.78      0.77       231\n",
      "\n"
     ]
    }
   ],
   "source": [
    "print(classification_report(y_test,final_pred))"
   ]
  },
  {
   "cell_type": "code",
   "execution_count": 21,
   "metadata": {},
   "outputs": [
    {
     "data": {
      "text/plain": [
       "'/home/shridhar'"
      ]
     },
     "execution_count": 21,
     "metadata": {},
     "output_type": "execute_result"
    }
   ],
   "source": [
    "pwd"
   ]
  }
 ],
 "metadata": {
  "kernelspec": {
   "display_name": "Python 3",
   "language": "python",
   "name": "python3"
  },
  "language_info": {
   "codemirror_mode": {
    "name": "ipython",
    "version": 3
   },
   "file_extension": ".py",
   "mimetype": "text/x-python",
   "name": "python",
   "nbconvert_exporter": "python",
   "pygments_lexer": "ipython3",
   "version": "3.6.4"
  }
 },
 "nbformat": 4,
 "nbformat_minor": 2
}
